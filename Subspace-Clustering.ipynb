{
 "cells": [
  {
   "cell_type": "code",
   "execution_count": 1,
   "metadata": {},
   "outputs": [],
   "source": [
    "\"\"\"\n",
    "Brian Sharber\n",
    "CSCI 4350/5350\n",
    "Dr. Joshua Phillips\n",
    "Honors Contract: Fall 2019\n",
    "Program Description: Uses toy data sets to illustrate the effectiveness of Subspace Clustering methods. \n",
    "Fine-tuning gamma affects performance. Tweak gamma to get better results in \"Find_Gamma.ipynb\".\n",
    "\"\"\"\n",
    "\n",
    "import matplotlib.pyplot as plt\n",
    "import matplotlib\n",
    "from mpl_toolkits.mplot3d import axes3d\n",
    "%matplotlib inline\n",
    "import math\n",
    "from cvxpy import *\n",
    "import numpy as np\n",
    "import scipy.spatial.distance as sdist\n",
    "from sklearn.cluster import KMeans"
   ]
  },
  {
   "cell_type": "code",
   "execution_count": 2,
   "metadata": {},
   "outputs": [],
   "source": [
    "# Ground truth\n",
    "f = open(\"ground.in\", \"w+\")\n",
    "for x in range(100):\n",
    "    f.write(' {:0d}\\n'.format(0))\n",
    "\n",
    "for x in range(100):\n",
    "    f.write(' {:0d}\\n'.format(1))\n",
    "\n",
    "f.close()\n",
    "# Convert the floating text in the file to integers when they come in\n",
    "Xassign = np.loadtxt(\"ground.in\").astype(np.int32)\n",
    "#print(ground)"
   ]
  },
  {
   "cell_type": "code",
   "execution_count": 3,
   "metadata": {},
   "outputs": [],
   "source": [
    "# Make some toy data sets\n",
    "# Set 1: 2 horizontal lines: 0 < y < 1\n",
    "count = 0.1\n",
    "f = open(\"lines-1.in\", \"w\")\n",
    "for x in range(100):\n",
    "    f.write('{:2.2f}'.format(count))\n",
    "    f.write(' {:0d}\\n'.format(0))\n",
    "    count += 0.1\n",
    "    \n",
    "count = 0.1\n",
    "for x in range(100):\n",
    "    f.write('{:2.2f}'.format(count))\n",
    "    f.write(' {:0d}\\n'.format(1))\n",
    "    count += 0.1\n",
    "\n",
    "f.close()\n",
    "X = np.loadtxt(\"lines-1.in\")"
   ]
  },
  {
   "cell_type": "code",
   "execution_count": 4,
   "metadata": {},
   "outputs": [
    {
     "name": "stdout",
     "output_type": "stream",
     "text": [
      "(200, 200)\n"
     ]
    }
   ],
   "source": [
    "# Subspace Clustering\n",
    "## Solve for each point as a linear system\n",
    "## with respect to all other points using\n",
    "## convex optimization routines\n",
    "## Basically, we express each point as a\n",
    "## linear combination of the other points...\n",
    "\n",
    "## Here we try to minimize the dot-product between\n",
    "## the coefficients. Sparsity is only needed in\n",
    "## dot-product space in-so-far as possible.\n",
    "\n",
    "A = np.transpose(X)\n",
    "Coeff = np.zeros([np.shape(A)[1],np.shape(A)[1]])\n",
    "for i in range(np.shape(A)[1]):\n",
    "    b = A[:,i]\n",
    "    # gamma must be positive due to DCP rules.\n",
    "    # Could change to cvxpy.Parameter\n",
    "    gamma = Parameter(nonneg=\"true\")\n",
    "    constraints = None\n",
    "    \n",
    "    # Construct the problem.\n",
    "    x = Variable(np.shape(A)[1])\n",
    "\n",
    "    ## Lasso\n",
    "    obj = Minimize(gamma*norm(A*x-b,2) + norm(x, 1))\n",
    "    constraints = [x[i] == 0]\n",
    "    ## constraints = [x[i] == 0, sum(x) == 1]\n",
    "\n",
    "    ## L1-Perfect\n",
    "    ## obj = Minimize(norm(x, 1))\n",
    "    ## constraints = [A*x == b, x[i] == 0, sum(x) == 1]\n",
    "    ## L1-Noisy\n",
    "    ## obj = Minimize(norm(x, 1))\n",
    "    ## constraints = [ A*x - b <= gamma, x[i] == 0, sum(x) == 1 ]\n",
    "\n",
    "    if [constraints == None]:\n",
    "        prob = Problem(obj)\n",
    "    else:\n",
    "        prob = Problem(obj,constraints)\n",
    "\n",
    "    ## From the original code\n",
    "    gamma.value = 0.046\n",
    "    prob.solve(solver='ECOS')\n",
    "    \n",
    "    Coeff[:,i] = np.transpose(x.value)\n",
    "print(Coeff.shape)"
   ]
  },
  {
   "cell_type": "code",
   "execution_count": 5,
   "metadata": {},
   "outputs": [],
   "source": [
    "## Refine results...\n",
    "## Only use magnitude of the coefficients (no negative values)\n",
    "Coeff = np.abs(Coeff)\n",
    "## Normalize each row - not needed but doesn't hurt on most examples\n",
    "## Coeff = Coeff / numpy.apply_along_axis(numpy.max,1,Coeff)[:,None]\n",
    "## Symmetrize\n",
    "Coeff = Coeff + np.transpose(Coeff)"
   ]
  },
  {
   "cell_type": "code",
   "execution_count": 6,
   "metadata": {},
   "outputs": [
    {
     "name": "stdout",
     "output_type": "stream",
     "text": [
      "2\n"
     ]
    }
   ],
   "source": [
    "## Dimensions in each subspace\n",
    "d1 = 1\n",
    "d2 = 1\n",
    "\n",
    "## What is K?\n",
    "K = np.max([d1,d2])+1\n",
    "print(K)\n",
    "\n",
    "## Select the top K coefficients\n",
    "newCoeff = np.zeros(np.shape(Coeff))\n",
    "indices = np.apply_along_axis(lambda x: np.argsort(x)[::-1],1,Coeff)[:,range(K)]\n",
    "for x in range(np.shape(Coeff)[0]):\n",
    "    newCoeff[x,indices[x,:]] = Coeff[x,indices[x,:]]\n",
    "\n",
    "## Normalize each row - again, not really needed\n",
    "## newCoeff = newCoeff / numpy.apply_along_axis(numpy.max,1,newCoeff)[:,None]\n",
    "## Symmetrize\n",
    "newCoeff = newCoeff + np.transpose(newCoeff)"
   ]
  },
  {
   "cell_type": "code",
   "execution_count": 7,
   "metadata": {},
   "outputs": [
    {
     "data": {
      "image/png": "[encoded data removed]",
      "text/plain": [
       "<Figure size 432x288 with 1 Axes>"
      ]
     },
     "metadata": {
      "needs_background": "light"
     },
     "output_type": "display_data"
    }
   ],
   "source": [
    "## Standard...\n",
    "Xaff = newCoeff\n",
    "\n",
    "## Get row sums\n",
    "Xaff_D = np.diagflat(1.0 / np.sqrt(np.apply_along_axis(np.sum,0,Xaff)))\n",
    "\n",
    "## Normalization\n",
    "Xnorm = np.matmul(np.matmul(Xaff_D,Xaff),Xaff_D)\n",
    "\n",
    "## Might not want to show this if the data sizes (N1,N2)\n",
    "## are large...\n",
    "plt.imshow(Xnorm)\n",
    "\n",
    "## Decomposition\n",
    "Evals, Evecs = np.linalg.eigh(Xnorm)\n",
    "\n",
    "#print(Evecs)"
   ]
  },
  {
   "cell_type": "code",
   "execution_count": 8,
   "metadata": {},
   "outputs": [
    {
     "name": "stdout",
     "output_type": "stream",
     "text": [
      "[1.         1.         0.68301394]\n"
     ]
    },
    {
     "data": {
      "text/plain": [
       "[<matplotlib.lines.Line2D at 0x10d83092cf8>]"
      ]
     },
     "execution_count": 8,
     "metadata": {},
     "output_type": "execute_result"
    },
    {
     "data": {
      "image/png": "[encoded data removed]",
      "text/plain": [
       "<Figure size 432x288 with 1 Axes>"
      ]
     },
     "metadata": {
      "needs_background": "light"
     },
     "output_type": "display_data"
    }
   ],
   "source": [
    "## Next Check the eigenvalues\n",
    "print(Evals[[-1,-2, -3]])\n",
    "plt.plot(np.linspace(1,len(Evals),num=len(Evals)),Evals)"
   ]
  },
  {
   "cell_type": "code",
   "execution_count": 9,
   "metadata": {},
   "outputs": [
    {
     "name": "stdout",
     "output_type": "stream",
     "text": [
      "Mutual Information\n",
      "0.9999999999998976\n"
     ]
    },
    {
     "data": {
      "image/png": "[encoded data removed]",
      "text/plain": [
       "<Figure size 432x288 with 1 Axes>"
      ]
     },
     "metadata": {
      "needs_background": "light"
     },
     "output_type": "display_data"
    }
   ],
   "source": [
    "## Perform clustering\n",
    "Xnew = Evecs[:,[-1,-2]]\n",
    "kmeans = KMeans(n_clusters=2).fit(Xnew)\n",
    "\n",
    "## If you want to see the eigen vectors...\n",
    "## Xone = Evecs[kmeans.labels_==0,:]\n",
    "## Xtwo = Evecs[kmeans.labels_==1,:]\n",
    "## plt.plot(Xone[:,0],Xone[:,1],'bo',Xtwo[:,0],Xtwo[:,1],'ro')\n",
    "\n",
    "## If you want it on the PCA projection...\n",
    "#Xone = Xsvd[0][kmeans.labels_==0,:]\n",
    "#Xtwo = Xsvd[0][kmeans.labels_==1,:]\n",
    "#plt.plot(Xone[:,0],Xone[:,1],'bo',Xtwo[:,0],Xtwo[:,1],'ro')\n",
    "\n",
    "## Let's quantify the performance\n",
    "jointPDF = np.zeros([2,2])\n",
    "for x in range(len(Xassign)):\n",
    "    jointPDF[Xassign[x],kmeans.labels_[x]] += 1\n",
    "jointPDF /= len(Xassign)\n",
    "jointPDF += 0.000000000000001\n",
    "marginals = np.outer(np.apply_along_axis(np.sum,1,jointPDF),np.apply_along_axis(np.sum,0,jointPDF))\n",
    "print('Mutual Information')\n",
    "print(np.sum(jointPDF*np.log2(jointPDF/marginals)))\n",
    "\n",
    "# Plot the Subspace clustering attempt at the data\n",
    "# Red will correlate to all 0's seen in kmeans.labels_, blue correlates to all 1's.\n",
    "plt.scatter(X[:,0], X[:,1], color = [[\"red\", \"blue\"][i] for i in kmeans.labels_])\n",
    "plt.ylabel('Y')\n",
    "plt.xlabel('X')\n",
    "plt.show()"
   ]
  },
  {
   "cell_type": "code",
   "execution_count": 10,
   "metadata": {},
   "outputs": [],
   "source": [
    "# Make some toy data sets\n",
    "# Set 2: 2 horizontal lines 0 < y < 4\n",
    "count = 0.1\n",
    "f = open(\"lines-2.in\", \"w\")\n",
    "for x in range(100):\n",
    "    f.write('{:2.2f}'.format(count))\n",
    "    f.write(' {:0d}\\n'.format(0))\n",
    "    count += 0.1\n",
    "    \n",
    "count = 0.1\n",
    "for x in range(100):\n",
    "    f.write('{:2.2f}'.format(count))\n",
    "    f.write(' {:0d}\\n'.format(4))\n",
    "    count += 0.1\n",
    "\n",
    "f.close()\n",
    "X = np.loadtxt(\"lines-2.in\")"
   ]
  },
  {
   "cell_type": "code",
   "execution_count": 11,
   "metadata": {},
   "outputs": [],
   "source": [
    "# Subspace Clustering\n",
    "## Solve for each point as a linear system\n",
    "## with respect to all other points using\n",
    "## convex optimization routines\n",
    "## Basically, we express each point as a\n",
    "## linear combination of the other points...\n",
    "\n",
    "## Here we try to minimize the dot-product between\n",
    "## the coefficients. Sparsity is only needed in\n",
    "## dot-product space in-so-far as possible.\n",
    "\n",
    "A = np.transpose(X)\n",
    "Coeff = np.zeros([np.shape(A)[1],np.shape(A)[1]])\n",
    "for i in range(np.shape(A)[1]):\n",
    "    b = A[:,i]\n",
    "    # gamma must be positive due to DCP rules.\n",
    "    gamma = Parameter(nonneg=\"true\")\n",
    "    constraints = None\n",
    "    \n",
    "    # Construct the problem.\n",
    "    x = Variable(np.shape(A)[1])\n",
    "\n",
    "    ## Lasso\n",
    "    obj = Minimize(gamma*norm(A*x-b,2) + norm(x, 1))\n",
    "    constraints = [x[i] == 0]\n",
    "    ## constraints = [x[i] == 0, sum(x) == 1]\n",
    "\n",
    "    ## L1-Perfect\n",
    "    ## obj = Minimize(norm(x, 1))\n",
    "    ## constraints = [A*x == b, x[i] == 0, sum(x) == 1]\n",
    "    ## L1-Noisy\n",
    "    ## obj = Minimize(norm(x, 1))\n",
    "    ## constraints = [ A*x - b <= gamma, x[i] == 0, sum(x) == 1 ]\n",
    "\n",
    "    if [constraints == None]:\n",
    "        prob = Problem(obj)\n",
    "    else:\n",
    "        prob = Problem(obj,constraints)\n",
    "\n",
    "    ## From the original code\n",
    "    gamma.value = 0.233\n",
    "    prob.solve(solver='ECOS')\n",
    "    \n",
    "    Coeff[:,i] = np.transpose(x.value)\n",
    "#print(Coeff.shape)"
   ]
  },
  {
   "cell_type": "code",
   "execution_count": 12,
   "metadata": {},
   "outputs": [],
   "source": [
    "## Refine results...\n",
    "## Only use magnitude of the coefficients (no negative values)\n",
    "Coeff = np.abs(Coeff)\n",
    "## Normalize each row - not needed but doesn't hurt on most examples\n",
    "## Coeff = Coeff / numpy.apply_along_axis(numpy.max,1,Coeff)[:,None]\n",
    "## Symmetrize\n",
    "Coeff = Coeff + np.transpose(Coeff)"
   ]
  },
  {
   "cell_type": "code",
   "execution_count": 13,
   "metadata": {},
   "outputs": [],
   "source": [
    "## Dimensions in each subspace\n",
    "d1 = 1\n",
    "d2 = 1\n",
    "\n",
    "## What is K?\n",
    "K = np.max([d1,d2])+1\n",
    "#print(K)\n",
    "\n",
    "## Select the top K coefficients\n",
    "newCoeff = np.zeros(np.shape(Coeff))\n",
    "indices = np.apply_along_axis(lambda x: np.argsort(x)[::-1],1,Coeff)[:,range(K)]\n",
    "for x in range(np.shape(Coeff)[0]):\n",
    "    newCoeff[x,indices[x,:]] = Coeff[x,indices[x,:]]\n",
    "\n",
    "## Normalize each row - again, not really needed\n",
    "## newCoeff = newCoeff / numpy.apply_along_axis(numpy.max,1,newCoeff)[:,None]\n",
    "## Symmetrize\n",
    "newCoeff = newCoeff + np.transpose(newCoeff)"
   ]
  },
  {
   "cell_type": "code",
   "execution_count": 14,
   "metadata": {},
   "outputs": [
    {
     "data": {
      "image/png": "[encoded data removed]",
      "text/plain": [
       "<Figure size 432x288 with 1 Axes>"
      ]
     },
     "metadata": {
      "needs_background": "light"
     },
     "output_type": "display_data"
    }
   ],
   "source": [
    "## Standard...\n",
    "Xaff = newCoeff\n",
    "\n",
    "## Get row sums\n",
    "Xaff_D = np.diagflat(1.0 / np.sqrt(np.apply_along_axis(np.sum,0,Xaff)))\n",
    "\n",
    "## Normalization\n",
    "Xnorm = np.matmul(np.matmul(Xaff_D,Xaff),Xaff_D)\n",
    "\n",
    "## Might not want to show this if the data sizes (N1,N2)\n",
    "## are large...\n",
    "plt.imshow(Xnorm)\n",
    "\n",
    "## Decomposition\n",
    "Evals, Evecs = np.linalg.eigh(Xnorm)\n",
    "\n",
    "#print(Evecs)"
   ]
  },
  {
   "cell_type": "code",
   "execution_count": 15,
   "metadata": {},
   "outputs": [
    {
     "name": "stdout",
     "output_type": "stream",
     "text": [
      "[1.00000000e+00 1.00000000e+00 1.82768712e-05]\n"
     ]
    },
    {
     "data": {
      "text/plain": [
       "[<matplotlib.lines.Line2D at 0x10d831da748>]"
      ]
     },
     "execution_count": 15,
     "metadata": {},
     "output_type": "execute_result"
    },
    {
     "data": {
      "image/png": "[encoded data removed]",
      "text/plain": [
       "<Figure size 432x288 with 1 Axes>"
      ]
     },
     "metadata": {
      "needs_background": "light"
     },
     "output_type": "display_data"
    }
   ],
   "source": [
    "## Next Check the eigenvalues\n",
    "print(Evals[[-1,-2, -3]])\n",
    "plt.plot(np.linspace(1,len(Evals),num=len(Evals)),Evals)"
   ]
  },
  {
   "cell_type": "code",
   "execution_count": 16,
   "metadata": {},
   "outputs": [
    {
     "name": "stdout",
     "output_type": "stream",
     "text": [
      "Mutual Information\n",
      "0.9595312960976473\n"
     ]
    },
    {
     "data": {
      "image/png": "[encoded data removed]",
      "text/plain": [
       "<Figure size 432x288 with 1 Axes>"
      ]
     },
     "metadata": {
      "needs_background": "light"
     },
     "output_type": "display_data"
    }
   ],
   "source": [
    "## Perform clustering\n",
    "Xnew = Evecs[:,[-1,-2]]\n",
    "kmeans = KMeans(n_clusters=2).fit(Xnew)\n",
    "\n",
    "## If you want to see the eigen vectors...\n",
    "## Xone = Evecs[kmeans.labels_==0,:]\n",
    "## Xtwo = Evecs[kmeans.labels_==1,:]\n",
    "## plt.plot(Xone[:,0],Xone[:,1],'bo',Xtwo[:,0],Xtwo[:,1],'ro')\n",
    "\n",
    "## If you want it on the PCA projection...\n",
    "#Xone = Xsvd[0][kmeans.labels_==0,:]\n",
    "#Xtwo = Xsvd[0][kmeans.labels_==1,:]\n",
    "#plt.plot(Xone[:,0],Xone[:,1],'bo',Xtwo[:,0],Xtwo[:,1],'ro')\n",
    "\n",
    "## Let's quantify the performance\n",
    "jointPDF = np.zeros([2,2])\n",
    "for x in range(len(Xassign)):\n",
    "    jointPDF[Xassign[x],kmeans.labels_[x]] += 1\n",
    "jointPDF /= len(Xassign)\n",
    "jointPDF += 0.000000000000001\n",
    "marginals = np.outer(np.apply_along_axis(np.sum,1,jointPDF),np.apply_along_axis(np.sum,0,jointPDF))\n",
    "print('Mutual Information')\n",
    "print(np.sum(jointPDF*np.log2(jointPDF/marginals)))\n",
    "\n",
    "# Plot the Subspace clustering attempt at the data\n",
    "# Red will correlate to all 0's seen in kmeans.labels_, blue correlates to all 1's.\n",
    "plt.scatter(X[:,0], X[:,1], color = [[\"red\", \"blue\"][i] for i in kmeans.labels_])\n",
    "plt.ylabel('Y')\n",
    "plt.xlabel('X')\n",
    "plt.show()"
   ]
  },
  {
   "cell_type": "code",
   "execution_count": 17,
   "metadata": {},
   "outputs": [],
   "source": [
    "# Make some toy data sets\n",
    "# Set 3: horizontal lines: Illustrates K-means performs as expected \n",
    "# with enough space given between the 2 lines: 0 < y < 5\n",
    "count = 0.1\n",
    "f = open(\"lines-3.in\", \"w\")\n",
    "for x in range(100):\n",
    "    f.write('{:2.2f}'.format(count))\n",
    "    f.write(' {:0d}\\n'.format(0))\n",
    "    count += 0.1\n",
    "    \n",
    "count = 0.1\n",
    "for x in range(100):\n",
    "    f.write('{:2.2f}'.format(count))\n",
    "    f.write(' {:0d}\\n'.format(5))\n",
    "    count += 0.1\n",
    "\n",
    "f.close()\n",
    "X = np.loadtxt(\"lines-3.in\")"
   ]
  },
  {
   "cell_type": "code",
   "execution_count": 18,
   "metadata": {},
   "outputs": [],
   "source": [
    "# Subspace Clustering\n",
    "## Solve for each point as a linear system\n",
    "## with respect to all other points using\n",
    "## convex optimization routines\n",
    "## Basically, we express each point as a\n",
    "## linear combination of the other points...\n",
    "\n",
    "## Here we try to minimize the dot-product between\n",
    "## the coefficients. Sparsity is only needed in\n",
    "## dot-product space in-so-far as possible.\n",
    "\n",
    "A = np.transpose(X)\n",
    "Coeff = np.zeros([np.shape(A)[1],np.shape(A)[1]])\n",
    "for i in range(np.shape(A)[1]):\n",
    "    b = A[:,i]\n",
    "    # gamma must be positive due to DCP rules.\n",
    "    gamma = Parameter(nonneg=\"true\")\n",
    "    constraints = None\n",
    "    \n",
    "    # Construct the problem.\n",
    "    x = Variable(np.shape(A)[1])\n",
    "\n",
    "    ## Lasso\n",
    "    obj = Minimize(gamma*norm(A*x-b,2) + norm(x, 1))\n",
    "    constraints = [x[i] == 0]\n",
    "    ## constraints = [x[i] == 0, sum(x) == 1]\n",
    "\n",
    "    ## L1-Perfect\n",
    "    ## obj = Minimize(norm(x, 1))\n",
    "    ## constraints = [A*x == b, x[i] == 0, sum(x) == 1]\n",
    "    ## L1-Noisy\n",
    "    ## obj = Minimize(norm(x, 1))\n",
    "    ## constraints = [ A*x - b <= gamma, x[i] == 0, sum(x) == 1 ]\n",
    "\n",
    "    if [constraints == None]:\n",
    "        prob = Problem(obj)\n",
    "    else:\n",
    "        prob = Problem(obj,constraints)\n",
    "\n",
    "    ## From the original code\n",
    "    gamma.value = 0.051\n",
    "    prob.solve(solver='ECOS')\n",
    "    \n",
    "    Coeff[:,i] = np.transpose(x.value)\n",
    "#print(Coeff.shape)"
   ]
  },
  {
   "cell_type": "code",
   "execution_count": 19,
   "metadata": {},
   "outputs": [],
   "source": [
    "## Refine results...\n",
    "## Only use magnitude of the coefficients (no negative values)\n",
    "Coeff = np.abs(Coeff)\n",
    "## Normalize each row - not needed but doesn't hurt on most examples\n",
    "## Coeff = Coeff / numpy.apply_along_axis(numpy.max,1,Coeff)[:,None]\n",
    "## Symmetrize\n",
    "Coeff = Coeff + np.transpose(Coeff)"
   ]
  },
  {
   "cell_type": "code",
   "execution_count": 20,
   "metadata": {},
   "outputs": [],
   "source": [
    "## Dimensions in each subspace\n",
    "d1 = 1\n",
    "d2 = 1\n",
    "\n",
    "## What is K?\n",
    "K = np.max([d1,d2])+1\n",
    "#print(K)\n",
    "\n",
    "## Select the top K coefficients\n",
    "newCoeff = np.zeros(np.shape(Coeff))\n",
    "indices = np.apply_along_axis(lambda x: np.argsort(x)[::-1],1,Coeff)[:,range(K)]\n",
    "for x in range(np.shape(Coeff)[0]):\n",
    "    newCoeff[x,indices[x,:]] = Coeff[x,indices[x,:]]\n",
    "\n",
    "## Normalize each row - again, not really needed\n",
    "## newCoeff = newCoeff / numpy.apply_along_axis(numpy.max,1,newCoeff)[:,None]\n",
    "## Symmetrize\n",
    "newCoeff = newCoeff + np.transpose(newCoeff)"
   ]
  },
  {
   "cell_type": "code",
   "execution_count": 21,
   "metadata": {},
   "outputs": [
    {
     "data": {
      "image/png": "[encoded data removed]",
      "text/plain": [
       "<Figure size 432x288 with 1 Axes>"
      ]
     },
     "metadata": {
      "needs_background": "light"
     },
     "output_type": "display_data"
    }
   ],
   "source": [
    "## Standard...\n",
    "Xaff = newCoeff\n",
    "\n",
    "## Get row sums\n",
    "Xaff_D = np.diagflat(1.0 / np.sqrt(np.apply_along_axis(np.sum,0,Xaff)))\n",
    "\n",
    "## Normalization\n",
    "Xnorm = np.matmul(np.matmul(Xaff_D,Xaff),Xaff_D)\n",
    "\n",
    "## Might not want to show this if the data sizes (N1,N2)\n",
    "## are large...\n",
    "plt.imshow(Xnorm)\n",
    "\n",
    "## Decomposition\n",
    "Evals, Evecs = np.linalg.eigh(Xnorm)\n",
    "\n",
    "#print(Evecs)"
   ]
  },
  {
   "cell_type": "code",
   "execution_count": 22,
   "metadata": {},
   "outputs": [
    {
     "name": "stdout",
     "output_type": "stream",
     "text": [
      "[1.         0.95898956 0.80726617]\n"
     ]
    },
    {
     "data": {
      "text/plain": [
       "[<matplotlib.lines.Line2D at 0x10d8330d748>]"
      ]
     },
     "execution_count": 22,
     "metadata": {},
     "output_type": "execute_result"
    },
    {
     "data": {
      "image/png": "[encoded data removed]",
      "text/plain": [
       "<Figure size 432x288 with 1 Axes>"
      ]
     },
     "metadata": {
      "needs_background": "light"
     },
     "output_type": "display_data"
    }
   ],
   "source": [
    "## Next Check the eigenvalues\n",
    "print(Evals[[-1,-2, -3]])\n",
    "plt.plot(np.linspace(1,len(Evals),num=len(Evals)),Evals)"
   ]
  },
  {
   "cell_type": "code",
   "execution_count": 23,
   "metadata": {},
   "outputs": [
    {
     "name": "stdout",
     "output_type": "stream",
     "text": [
      "Mutual Information\n",
      "0.9595312960976473\n"
     ]
    },
    {
     "data": {
      "image/png": "[encoded data removed]",
      "text/plain": [
       "<Figure size 432x288 with 1 Axes>"
      ]
     },
     "metadata": {
      "needs_background": "light"
     },
     "output_type": "display_data"
    }
   ],
   "source": [
    "## Perform clustering\n",
    "Xnew = Evecs[:,[-1,-2]]\n",
    "kmeans = KMeans(n_clusters=2).fit(Xnew)\n",
    "\n",
    "## If you want to see the eigen vectors...\n",
    "## Xone = Evecs[kmeans.labels_==0,:]\n",
    "## Xtwo = Evecs[kmeans.labels_==1,:]\n",
    "## plt.plot(Xone[:,0],Xone[:,1],'bo',Xtwo[:,0],Xtwo[:,1],'ro')\n",
    "\n",
    "## If you want it on the PCA projection...\n",
    "#Xone = Xsvd[0][kmeans.labels_==0,:]\n",
    "#Xtwo = Xsvd[0][kmeans.labels_==1,:]\n",
    "#plt.plot(Xone[:,0],Xone[:,1],'bo',Xtwo[:,0],Xtwo[:,1],'ro')\n",
    "\n",
    "## Let's quantify the performance\n",
    "jointPDF = np.zeros([2,2])\n",
    "for x in range(len(Xassign)):\n",
    "    jointPDF[Xassign[x],kmeans.labels_[x]] += 1\n",
    "jointPDF /= len(Xassign)\n",
    "jointPDF += 0.000000000000001\n",
    "marginals = np.outer(np.apply_along_axis(np.sum,1,jointPDF),np.apply_along_axis(np.sum,0,jointPDF))\n",
    "print('Mutual Information')\n",
    "print(np.sum(jointPDF*np.log2(jointPDF/marginals)))\n",
    "\n",
    "# Plot the Subspace clustering attempt at the data\n",
    "# Red will correlate to all 0's seen in kmeans.labels_, blue correlates to all 1's.\n",
    "plt.scatter(X[:,0], X[:,1], color = [[\"red\", \"blue\"][i] for i in kmeans.labels_])\n",
    "plt.ylabel('Y')\n",
    "plt.xlabel('X')\n",
    "plt.show()"
   ]
  },
  {
   "cell_type": "code",
   "execution_count": 24,
   "metadata": {},
   "outputs": [],
   "source": [
    "# Make some toy data sets\n",
    "# Set 4: Interlocking Circles\n",
    "# Make one circle\n",
    "\n",
    "pi = math.pi\n",
    "\n",
    "def PointsInCircum(r,n):\n",
    "    return [(math.cos(2*pi/n*x)*r,math.sin(2*pi/n*x)*r) for x in range(0,n+1)]\n",
    "\n",
    "f = open(\"circle-1.in\", \"w\")\n",
    "\n",
    "circle1 = PointsInCircum(2, 100)\n",
    "\n",
    "for x in range(100):\n",
    "    f.write('{:0f} '.format(circle1[x][0]))\n",
    "    f.write(' {:0f}\\n'.format(circle1[x][1]))\n",
    "    \n",
    "f.close()\n",
    "circle1 = np.loadtxt(\"circle-1.in\")\n",
    "#print(circle1)\n",
    "\n",
    "# Make one circle shifted to the right.\n",
    "\n",
    "def PointsInCircum_shift_right(r,n):\n",
    "    return [(math.cos(2*pi/n*x)*r + 2,math.sin(2*pi/n*x)*r) for x in range(0,n+1)]\n",
    "\n",
    "f = open(\"circle-2.in\", \"w\")\n",
    "\n",
    "circle2 = PointsInCircum_shift_right(2, 100)\n",
    "\n",
    "for x in range(100):\n",
    "    f.write('{:0f} '.format(circle2[x][0]))\n",
    "    f.write(' {:0f}\\n'.format(circle2[x][1]))\n",
    "    \n",
    "f.close()\n",
    "circle2 = np.loadtxt(\"circle-2.in\")\n",
    "\n",
    "# Bring the two circles together\n",
    "\n",
    "f = open(\"interlocking_circles.in\", \"w\")\n",
    "\n",
    "for x in range(100):\n",
    "    f.write('{:0f} '.format(circle1[x][0]))\n",
    "    f.write(' {:0f}\\n'.format(circle1[x][1]))\n",
    "    \n",
    "for x in range(100):\n",
    "    f.write('{:0f} '.format(circle2[x][0]))\n",
    "    f.write(' {:0f}\\n'.format(circle2[x][1]))\n",
    "    \n",
    "f.close()\n",
    "X = np.loadtxt(\"interlocking_circles.in\")"
   ]
  },
  {
   "cell_type": "code",
   "execution_count": 25,
   "metadata": {},
   "outputs": [],
   "source": [
    "# Subspace Clustering\n",
    "## Solve for each point as a linear system\n",
    "## with respect to all other points using\n",
    "## convex optimization routines\n",
    "## Basically, we express each point as a\n",
    "## linear combination of the other points...\n",
    "\n",
    "## Here we try to minimize the dot-product between\n",
    "## the coefficients. Sparsity is only needed in\n",
    "## dot-product space in-so-far as possible.\n",
    "\n",
    "A = np.transpose(X)\n",
    "Coeff = np.zeros([np.shape(A)[1],np.shape(A)[1]])\n",
    "for i in range(np.shape(A)[1]):\n",
    "    b = A[:,i]\n",
    "    # gamma must be positive due to DCP rules.\n",
    "    gamma = Parameter(nonneg=\"true\")\n",
    "    constraints = None\n",
    "    \n",
    "    # Construct the problem.\n",
    "    x = Variable(np.shape(A)[1])\n",
    "\n",
    "    ## Lasso\n",
    "    obj = Minimize(gamma*norm(A*x-b,2) + norm(x, 1))\n",
    "    constraints = [x[i] == 0]\n",
    "    ## constraints = [x[i] == 0, sum(x) == 1]\n",
    "\n",
    "    ## L1-Perfect\n",
    "    ## obj = Minimize(norm(x, 1))\n",
    "    ## constraints = [A*x == b, x[i] == 0, sum(x) == 1]\n",
    "    ## L1-Noisy\n",
    "    ## obj = Minimize(norm(x, 1))\n",
    "    ## constraints = [ A*x - b <= gamma, x[i] == 0, sum(x) == 1 ]\n",
    "\n",
    "    if [constraints == None]:\n",
    "        prob = Problem(obj)\n",
    "    else:\n",
    "        prob = Problem(obj,constraints)\n",
    "\n",
    "    ## From the original code\n",
    "    gamma.value = 0.131\n",
    "    prob.solve(solver='ECOS')\n",
    "    \n",
    "    Coeff[:,i] = np.transpose(x.value)\n",
    "#print(Coeff.shape)"
   ]
  },
  {
   "cell_type": "code",
   "execution_count": 26,
   "metadata": {},
   "outputs": [],
   "source": [
    "## Refine results...\n",
    "## Only use magnitude of the coefficients (no negative values)\n",
    "Coeff = np.abs(Coeff)\n",
    "## Normalize each row - not needed but doesn't hurt on most examples\n",
    "## Coeff = Coeff / numpy.apply_along_axis(numpy.max,1,Coeff)[:,None]\n",
    "## Symmetrize\n",
    "Coeff = Coeff + np.transpose(Coeff)"
   ]
  },
  {
   "cell_type": "code",
   "execution_count": 27,
   "metadata": {},
   "outputs": [],
   "source": [
    "## Dimensions in each subspace\n",
    "d1 = 1\n",
    "d2 = 1\n",
    "\n",
    "## What is K?\n",
    "K = np.max([d1,d2])+1\n",
    "#print(K)\n",
    "\n",
    "## Select the top K coefficients\n",
    "newCoeff = np.zeros(np.shape(Coeff))\n",
    "indices = np.apply_along_axis(lambda x: np.argsort(x)[::-1],1,Coeff)[:,range(K)]\n",
    "for x in range(np.shape(Coeff)[0]):\n",
    "    newCoeff[x,indices[x,:]] = Coeff[x,indices[x,:]]\n",
    "\n",
    "## Normalize each row - again, not really needed\n",
    "## newCoeff = newCoeff / numpy.apply_along_axis(numpy.max,1,newCoeff)[:,None]\n",
    "## Symmetrize\n",
    "newCoeff = newCoeff + np.transpose(newCoeff)"
   ]
  },
  {
   "cell_type": "code",
   "execution_count": 28,
   "metadata": {},
   "outputs": [
    {
     "data": {
      "image/png": "[encoded data removed]",
      "text/plain": [
       "<Figure size 432x288 with 1 Axes>"
      ]
     },
     "metadata": {
      "needs_background": "light"
     },
     "output_type": "display_data"
    }
   ],
   "source": [
    "## Standard...\n",
    "Xaff = newCoeff\n",
    "\n",
    "## Get row sums\n",
    "Xaff_D = np.diagflat(1.0 / np.sqrt(np.apply_along_axis(np.sum,0,Xaff)))\n",
    "\n",
    "## Normalization\n",
    "Xnorm = np.matmul(np.matmul(Xaff_D,Xaff),Xaff_D)\n",
    "\n",
    "## Might not want to show this if the data sizes (N1,N2)\n",
    "## are large...\n",
    "plt.imshow(Xnorm)\n",
    "\n",
    "## Decomposition\n",
    "Evals, Evecs = np.linalg.eigh(Xnorm)\n",
    "\n",
    "#print(Evecs)"
   ]
  },
  {
   "cell_type": "code",
   "execution_count": 29,
   "metadata": {},
   "outputs": [
    {
     "name": "stdout",
     "output_type": "stream",
     "text": [
      "[1.         0.93582015 0.90837906]\n"
     ]
    },
    {
     "data": {
      "text/plain": [
       "[<matplotlib.lines.Line2D at 0x10d83196400>]"
      ]
     },
     "execution_count": 29,
     "metadata": {},
     "output_type": "execute_result"
    },
    {
     "data": {
      "image/png": "[encoded data removed]",
      "text/plain": [
       "<Figure size 432x288 with 1 Axes>"
      ]
     },
     "metadata": {
      "needs_background": "light"
     },
     "output_type": "display_data"
    }
   ],
   "source": [
    "## Next Check the eigenvalues\n",
    "print(Evals[[-1,-2, -3]])\n",
    "plt.plot(np.linspace(1,len(Evals),num=len(Evals)),Evals)"
   ]
  },
  {
   "cell_type": "code",
   "execution_count": 30,
   "metadata": {},
   "outputs": [
    {
     "name": "stdout",
     "output_type": "stream",
     "text": [
      "Mutual Information\n",
      "0.17562590881733256\n"
     ]
    },
    {
     "data": {
      "image/png": "[encoded data removed]",
      "text/plain": [
       "<Figure size 432x288 with 1 Axes>"
      ]
     },
     "metadata": {
      "needs_background": "light"
     },
     "output_type": "display_data"
    }
   ],
   "source": [
    "## Perform clustering\n",
    "Xnew = Evecs[:,[-1,-2]]\n",
    "kmeans = KMeans(n_clusters=2).fit(Xnew)\n",
    "\n",
    "## If you want to see the eigen vectors...\n",
    "## Xone = Evecs[kmeans.labels_==0,:]\n",
    "## Xtwo = Evecs[kmeans.labels_==1,:]\n",
    "## plt.plot(Xone[:,0],Xone[:,1],'bo',Xtwo[:,0],Xtwo[:,1],'ro')\n",
    "\n",
    "## If you want it on the PCA projection...\n",
    "#Xone = Xsvd[0][kmeans.labels_==0,:]\n",
    "#Xtwo = Xsvd[0][kmeans.labels_==1,:]\n",
    "#plt.plot(Xone[:,0],Xone[:,1],'bo',Xtwo[:,0],Xtwo[:,1],'ro')\n",
    "\n",
    "## Let's quantify the performance\n",
    "jointPDF = np.zeros([2,2])\n",
    "for x in range(len(Xassign)):\n",
    "    jointPDF[Xassign[x],kmeans.labels_[x]] += 1\n",
    "jointPDF /= len(Xassign)\n",
    "jointPDF += 0.000000000000001\n",
    "marginals = np.outer(np.apply_along_axis(np.sum,1,jointPDF),np.apply_along_axis(np.sum,0,jointPDF))\n",
    "print('Mutual Information')\n",
    "print(np.sum(jointPDF*np.log2(jointPDF/marginals)))\n",
    "\n",
    "# Plot the Subspace clustering attempt at the data\n",
    "# Red will correlate to all 0's seen in kmeans.labels_, blue correlates to all 1's.\n",
    "plt.scatter(X[:,0], X[:,1], color = [[\"red\", \"blue\"][i] for i in kmeans.labels_])\n",
    "plt.ylabel('Y')\n",
    "plt.xlabel('X')\n",
    "plt.show()"
   ]
  },
  {
   "cell_type": "code",
   "execution_count": 31,
   "metadata": {},
   "outputs": [],
   "source": [
    "# Make some toy data sets\n",
    "# Set 5: Interlocking U's \n",
    "# top half\n",
    "\n",
    "def PointsInCircum_shift_up(r,n):\n",
    "    return [(math.cos(2*pi/n*x)*r,math.sin(2*pi/n*x)*r + 3) for x in range(0,n+1)]\n",
    "\n",
    "f = open(\"u-1.in\", \"w\")\n",
    "\n",
    "u1 = PointsInCircum_shift_up(2, 200)\n",
    "\n",
    "for x in range(100):\n",
    "    f.write('{:0f} '.format(u1[x+100][0]))\n",
    "    f.write(' {:0f}\\n'.format(u1[x+100][1]))\n",
    "    \n",
    "f.close()\n",
    "u1 = np.loadtxt(\"u-1.in\")\n",
    "\n",
    "# Interlocking U's: bottom half\n",
    "\n",
    "def PointsInCircum(r,n):\n",
    "    return [(math.cos(2*pi/n*x)*r,math.sin(2*pi/n*x)*r) for x in range(0,n+1)]\n",
    "\n",
    "f = open(\"u-2.in\", \"w\")\n",
    "\n",
    "u2 = PointsInCircum(2, 200)\n",
    "\n",
    "for x in range(100):\n",
    "    f.write('{:0f} '.format(u2[x][0]))\n",
    "    f.write(' {:0f}\\n'.format(u2[x][1]))\n",
    "    \n",
    "f.close()\n",
    "u2 = np.loadtxt(\"u-2.in\")\n",
    "\n",
    "# Interlocking U's: Combine the upper and lower half.\n",
    "\n",
    "f = open(\"interlocking_us.in\", \"w\")\n",
    "\n",
    "for x in range(100):\n",
    "    f.write('{:0f} '.format(u1[x][0]))\n",
    "    f.write(' {:0f}\\n'.format(u1[x][1]))\n",
    "    \n",
    "for x in range(100):\n",
    "    f.write('{:0f} '.format(u2[x][0]))\n",
    "    f.write(' {:0f}\\n'.format(u2[x][1]))\n",
    "    \n",
    "f.close()\n",
    "X = np.loadtxt(\"interlocking_us.in\")"
   ]
  },
  {
   "cell_type": "code",
   "execution_count": 32,
   "metadata": {},
   "outputs": [],
   "source": [
    "# Subspace Clustering\n",
    "## Solve for each point as a linear system\n",
    "## with respect to all other points using\n",
    "## convex optimization routines\n",
    "## Basically, we express each point as a\n",
    "## linear combination of the other points...\n",
    "\n",
    "## Here we try to minimize the dot-product between\n",
    "## the coefficients. Sparsity is only needed in\n",
    "## dot-product space in-so-far as possible.\n",
    "\n",
    "A = np.transpose(X)\n",
    "Coeff = np.zeros([np.shape(A)[1],np.shape(A)[1]])\n",
    "for i in range(np.shape(A)[1]):\n",
    "    b = A[:,i]\n",
    "    # gamma must be positive due to DCP rules.\n",
    "    gamma = Parameter(nonneg=\"true\")\n",
    "    constraints = None\n",
    "    \n",
    "    # Construct the problem.\n",
    "    x = Variable(np.shape(A)[1])\n",
    "\n",
    "    ## Lasso\n",
    "    obj = Minimize(gamma*norm(A*x-b,2) + norm(x, 1))\n",
    "    constraints = [x[i] == 0]\n",
    "    ## constraints = [x[i] == 0, sum(x) == 1]\n",
    "\n",
    "    ## L1-Perfect\n",
    "    ## obj = Minimize(norm(x, 1))\n",
    "    ## constraints = [A*x == b, x[i] == 0, sum(x) == 1]\n",
    "    ## L1-Noisy\n",
    "    ## obj = Minimize(norm(x, 1))\n",
    "    ## constraints = [ A*x - b <= gamma, x[i] == 0, sum(x) == 1 ]\n",
    "\n",
    "    if [constraints == None]:\n",
    "        prob = Problem(obj)\n",
    "    else:\n",
    "        prob = Problem(obj,constraints)\n",
    "\n",
    "    ## From the original code\n",
    "    gamma.value = 0.056\n",
    "    prob.solve(solver='ECOS')\n",
    "    \n",
    "    Coeff[:,i] = np.transpose(x.value)\n",
    "#print(Coeff.shape)"
   ]
  },
  {
   "cell_type": "code",
   "execution_count": 33,
   "metadata": {},
   "outputs": [],
   "source": [
    "## Refine results...\n",
    "## Only use magnitude of the coefficients (no negative values)\n",
    "Coeff = np.abs(Coeff)\n",
    "## Normalize each row - not needed but doesn't hurt on most examples\n",
    "## Coeff = Coeff / numpy.apply_along_axis(numpy.max,1,Coeff)[:,None]\n",
    "## Symmetrize\n",
    "Coeff = Coeff + np.transpose(Coeff)"
   ]
  },
  {
   "cell_type": "code",
   "execution_count": 34,
   "metadata": {},
   "outputs": [],
   "source": [
    "## Dimensions in each subspace\n",
    "d1 = 1\n",
    "d2 = 1\n",
    "\n",
    "## What is K?\n",
    "K = np.max([d1,d2])+1\n",
    "#print(K)\n",
    "\n",
    "## Select the top K coefficients\n",
    "newCoeff = np.zeros(np.shape(Coeff))\n",
    "indices = np.apply_along_axis(lambda x: np.argsort(x)[::-1],1,Coeff)[:,range(K)]\n",
    "for x in range(np.shape(Coeff)[0]):\n",
    "    newCoeff[x,indices[x,:]] = Coeff[x,indices[x,:]]\n",
    "\n",
    "## Normalize each row - again, not really needed\n",
    "## newCoeff = newCoeff / numpy.apply_along_axis(numpy.max,1,newCoeff)[:,None]\n",
    "## Symmetrize\n",
    "newCoeff = newCoeff + np.transpose(newCoeff)"
   ]
  },
  {
   "cell_type": "code",
   "execution_count": 35,
   "metadata": {},
   "outputs": [
    {
     "data": {
      "image/png": "[encoded data removed]",
      "text/plain": [
       "<Figure size 432x288 with 1 Axes>"
      ]
     },
     "metadata": {
      "needs_background": "light"
     },
     "output_type": "display_data"
    }
   ],
   "source": [
    "## Standard...\n",
    "Xaff = newCoeff\n",
    "\n",
    "## Get row sums\n",
    "Xaff_D = np.diagflat(1.0 / np.sqrt(np.apply_along_axis(np.sum,0,Xaff)))\n",
    "\n",
    "## Normalization\n",
    "Xnorm = np.matmul(np.matmul(Xaff_D,Xaff),Xaff_D)\n",
    "\n",
    "## Might not want to show this if the data sizes (N1,N2)\n",
    "## are large...\n",
    "plt.imshow(Xnorm)\n",
    "\n",
    "## Decomposition\n",
    "Evals, Evecs = np.linalg.eigh(Xnorm)\n",
    "\n",
    "#print(Evecs)"
   ]
  },
  {
   "cell_type": "code",
   "execution_count": 36,
   "metadata": {},
   "outputs": [
    {
     "name": "stdout",
     "output_type": "stream",
     "text": [
      "[1.         0.84104703 0.57749171]\n"
     ]
    },
    {
     "data": {
      "text/plain": [
       "[<matplotlib.lines.Line2D at 0x10d833a2c88>]"
      ]
     },
     "execution_count": 36,
     "metadata": {},
     "output_type": "execute_result"
    },
    {
     "data": {
      "image/png": "[encoded data removed]",
      "text/plain": [
       "<Figure size 432x288 with 1 Axes>"
      ]
     },
     "metadata": {
      "needs_background": "light"
     },
     "output_type": "display_data"
    }
   ],
   "source": [
    "## Next Check the eigenvalues\n",
    "print(Evals[[-1,-2, -3]])\n",
    "plt.plot(np.linspace(1,len(Evals),num=len(Evals)),Evals)"
   ]
  },
  {
   "cell_type": "code",
   "execution_count": 37,
   "metadata": {},
   "outputs": [
    {
     "name": "stdout",
     "output_type": "stream",
     "text": [
      "Mutual Information\n",
      "0.19529542625765178\n"
     ]
    },
    {
     "data": {
      "image/png": "[encoded data removed]",
      "text/plain": [
       "<Figure size 432x288 with 1 Axes>"
      ]
     },
     "metadata": {
      "needs_background": "light"
     },
     "output_type": "display_data"
    }
   ],
   "source": [
    "## Perform clustering\n",
    "Xnew = Evecs[:,[-1,-2]]\n",
    "kmeans = KMeans(n_clusters=2).fit(Xnew)\n",
    "\n",
    "## If you want to see the eigen vectors...\n",
    "## Xone = Evecs[kmeans.labels_==0,:]\n",
    "## Xtwo = Evecs[kmeans.labels_==1,:]\n",
    "## plt.plot(Xone[:,0],Xone[:,1],'bo',Xtwo[:,0],Xtwo[:,1],'ro')\n",
    "\n",
    "## If you want it on the PCA projection...\n",
    "#Xone = Xsvd[0][kmeans.labels_==0,:]\n",
    "#Xtwo = Xsvd[0][kmeans.labels_==1,:]\n",
    "#plt.plot(Xone[:,0],Xone[:,1],'bo',Xtwo[:,0],Xtwo[:,1],'ro')\n",
    "\n",
    "## Let's quantify the performance\n",
    "jointPDF = np.zeros([2,2])\n",
    "for x in range(len(Xassign)):\n",
    "    jointPDF[Xassign[x],kmeans.labels_[x]] += 1\n",
    "jointPDF /= len(Xassign)\n",
    "jointPDF += 0.000000000000001\n",
    "marginals = np.outer(np.apply_along_axis(np.sum,1,jointPDF),np.apply_along_axis(np.sum,0,jointPDF))\n",
    "print('Mutual Information')\n",
    "print(np.sum(jointPDF*np.log2(jointPDF/marginals)))\n",
    "\n",
    "# Plot the Subspace clustering attempt at the data\n",
    "# Red will correlate to all 0's seen in kmeans.labels_, blue correlates to all 1's.\n",
    "plt.scatter(X[:,0], X[:,1], color = [[\"red\", \"blue\"][i] for i in kmeans.labels_])\n",
    "plt.ylabel('Y')\n",
    "plt.xlabel('X')\n",
    "plt.show()"
   ]
  },
  {
   "cell_type": "code",
   "execution_count": 38,
   "metadata": {},
   "outputs": [],
   "source": [
    "# Make some toy data sets\n",
    "# Set 6: 2 lines making an X\n",
    "count = -50\n",
    "f = open(\"x-1.in\", \"w\")\n",
    "for x in range(100):\n",
    "    f.write('{:2.2f}'.format(count))\n",
    "    f.write(' {:2.2f}\\n'.format(count))\n",
    "    count += 1\n",
    "    \n",
    "count = -50\n",
    "y = 0\n",
    "for x in range(100):\n",
    "    y = (-1)*(count)\n",
    "    f.write('{:2.2f}'.format(count))\n",
    "    f.write(' {:2.2f}\\n'.format(y))\n",
    "    count += 1\n",
    "\n",
    "f.close()\n",
    "X = np.loadtxt(\"x-1.in\")"
   ]
  },
  {
   "cell_type": "code",
   "execution_count": 39,
   "metadata": {},
   "outputs": [],
   "source": [
    "# Subspace Clustering\n",
    "## Solve for each point as a linear system\n",
    "## with respect to all other points using\n",
    "## convex optimization routines\n",
    "## Basically, we express each point as a\n",
    "## linear combination of the other points...\n",
    "\n",
    "## Here we try to minimize the dot-product between\n",
    "## the coefficients. Sparsity is only needed in\n",
    "## dot-product space in-so-far as possible.\n",
    "\n",
    "A = np.transpose(X)\n",
    "Coeff = np.zeros([np.shape(A)[1],np.shape(A)[1]])\n",
    "for i in range(np.shape(A)[1]):\n",
    "    b = A[:,i]\n",
    "    # gamma must be positive due to DCP rules.\n",
    "    gamma = Parameter(nonneg=\"true\")\n",
    "    constraints = None\n",
    "    \n",
    "    # Construct the problem.\n",
    "    x = Variable(np.shape(A)[1])\n",
    "\n",
    "    ## Lasso\n",
    "    obj = Minimize(gamma*norm(A*x-b,2) + norm(x, 1))\n",
    "    constraints = [x[i] == 0]\n",
    "    ## constraints = [x[i] == 0, sum(x) == 1]\n",
    "\n",
    "    ## L1-Perfect\n",
    "    ## obj = Minimize(norm(x, 1))\n",
    "    ## constraints = [A*x == b, x[i] == 0, sum(x) == 1]\n",
    "    ## L1-Noisy\n",
    "    ## obj = Minimize(norm(x, 1))\n",
    "    ## constraints = [ A*x - b <= gamma, x[i] == 0, sum(x) == 1 ]\n",
    "\n",
    "    if [constraints == None]:\n",
    "        prob = Problem(obj)\n",
    "    else:\n",
    "        prob = Problem(obj,constraints)\n",
    "\n",
    "    ## From the original code\n",
    "    gamma.value = 0.001\n",
    "    prob.solve(solver='ECOS')\n",
    "    \n",
    "    Coeff[:,i] = np.transpose(x.value)\n",
    "#print(Coeff.shape)"
   ]
  },
  {
   "cell_type": "code",
   "execution_count": 40,
   "metadata": {},
   "outputs": [],
   "source": [
    "## Refine results...\n",
    "## Only use magnitude of the coefficients (no negative values)\n",
    "Coeff = np.abs(Coeff)\n",
    "## Normalize each row - not needed but doesn't hurt on most examples\n",
    "## Coeff = Coeff / numpy.apply_along_axis(numpy.max,1,Coeff)[:,None]\n",
    "## Symmetrize\n",
    "Coeff = Coeff + np.transpose(Coeff)"
   ]
  },
  {
   "cell_type": "code",
   "execution_count": 41,
   "metadata": {},
   "outputs": [],
   "source": [
    "## Dimensions in each subspace\n",
    "d1 = 1\n",
    "d2 = 1\n",
    "\n",
    "## What is K?\n",
    "K = np.max([d1,d2])+1\n",
    "#print(K)\n",
    "\n",
    "## Select the top K coefficients\n",
    "newCoeff = np.zeros(np.shape(Coeff))\n",
    "indices = np.apply_along_axis(lambda x: np.argsort(x)[::-1],1,Coeff)[:,range(K)]\n",
    "for x in range(np.shape(Coeff)[0]):\n",
    "    newCoeff[x,indices[x,:]] = Coeff[x,indices[x,:]]\n",
    "\n",
    "## Normalize each row - again, not really needed\n",
    "## newCoeff = newCoeff / numpy.apply_along_axis(numpy.max,1,newCoeff)[:,None]\n",
    "## Symmetrize\n",
    "newCoeff = newCoeff + np.transpose(newCoeff)"
   ]
  },
  {
   "cell_type": "code",
   "execution_count": 42,
   "metadata": {},
   "outputs": [
    {
     "data": {
      "image/png": "[encoded data removed]",
      "text/plain": [
       "<Figure size 432x288 with 1 Axes>"
      ]
     },
     "metadata": {
      "needs_background": "light"
     },
     "output_type": "display_data"
    }
   ],
   "source": [
    "## Standard...\n",
    "Xaff = newCoeff\n",
    "\n",
    "## Get row sums\n",
    "Xaff_D = np.diagflat(1.0 / np.sqrt(np.apply_along_axis(np.sum,0,Xaff)))\n",
    "\n",
    "## Normalization\n",
    "Xnorm = np.matmul(np.matmul(Xaff_D,Xaff),Xaff_D)\n",
    "\n",
    "## Might not want to show this if the data sizes (N1,N2)\n",
    "## are large...\n",
    "plt.imshow(Xnorm)\n",
    "\n",
    "## Decomposition\n",
    "Evals, Evecs = np.linalg.eigh(Xnorm)\n",
    "\n",
    "#print(Evecs)"
   ]
  },
  {
   "cell_type": "code",
   "execution_count": 43,
   "metadata": {},
   "outputs": [
    {
     "name": "stdout",
     "output_type": "stream",
     "text": [
      "[1.         1.         0.80728652]\n"
     ]
    },
    {
     "data": {
      "text/plain": [
       "[<matplotlib.lines.Line2D at 0x10d834da668>]"
      ]
     },
     "execution_count": 43,
     "metadata": {},
     "output_type": "execute_result"
    },
    {
     "data": {
      "image/png": "[encoded data removed]",
      "text/plain": [
       "<Figure size 432x288 with 1 Axes>"
      ]
     },
     "metadata": {
      "needs_background": "light"
     },
     "output_type": "display_data"
    }
   ],
   "source": [
    "## Next Check the eigenvalues\n",
    "print(Evals[[-1,-2, -3]])\n",
    "plt.plot(np.linspace(1,len(Evals),num=len(Evals)),Evals)"
   ]
  },
  {
   "cell_type": "code",
   "execution_count": 44,
   "metadata": {},
   "outputs": [
    {
     "name": "stdout",
     "output_type": "stream",
     "text": [
      "Mutual Information\n",
      "0.9595312960976473\n"
     ]
    },
    {
     "data": {
      "image/png": "[encoded data removed]",
      "text/plain": [
       "<Figure size 432x288 with 1 Axes>"
      ]
     },
     "metadata": {
      "needs_background": "light"
     },
     "output_type": "display_data"
    }
   ],
   "source": [
    "## Perform clustering\n",
    "Xnew = Evecs[:,[-1,-2]]\n",
    "kmeans = KMeans(n_clusters=2).fit(Xnew)\n",
    "\n",
    "## If you want to see the eigen vectors...\n",
    "## Xone = Evecs[kmeans.labels_==0,:]\n",
    "## Xtwo = Evecs[kmeans.labels_==1,:]\n",
    "## plt.plot(Xone[:,0],Xone[:,1],'bo',Xtwo[:,0],Xtwo[:,1],'ro')\n",
    "\n",
    "## If you want it on the PCA projection...\n",
    "#Xone = Xsvd[0][kmeans.labels_==0,:]\n",
    "#Xtwo = Xsvd[0][kmeans.labels_==1,:]\n",
    "#plt.plot(Xone[:,0],Xone[:,1],'bo',Xtwo[:,0],Xtwo[:,1],'ro')\n",
    "\n",
    "## Let's quantify the performance\n",
    "jointPDF = np.zeros([2,2])\n",
    "for x in range(len(Xassign)):\n",
    "    jointPDF[Xassign[x],kmeans.labels_[x]] += 1\n",
    "jointPDF /= len(Xassign)\n",
    "jointPDF += 0.000000000000001\n",
    "marginals = np.outer(np.apply_along_axis(np.sum,1,jointPDF),np.apply_along_axis(np.sum,0,jointPDF))\n",
    "print('Mutual Information')\n",
    "print(np.sum(jointPDF*np.log2(jointPDF/marginals)))\n",
    "\n",
    "# Plot the Subspace clustering attempt at the data\n",
    "# Red will correlate to all 0's seen in kmeans.labels_, blue correlates to all 1's.\n",
    "plt.scatter(X[:,0], X[:,1], color = [[\"red\", \"blue\"][i] for i in kmeans.labels_])\n",
    "plt.ylabel('Y')\n",
    "plt.xlabel('X')\n",
    "plt.show()"
   ]
  },
  {
   "cell_type": "code",
   "execution_count": 45,
   "metadata": {},
   "outputs": [],
   "source": [
    "# Make some toy data sets\n",
    "# Set 7: Circle within a circle\n",
    "# Make a circle\n",
    "\n",
    "def PointsInCircum_subset(r,n):\n",
    "    return [((math.cos(2*pi/n*x)*r), math.sin(2*pi/n*x)*r) for x in range(0,n+1)]\n",
    "\n",
    "f = open(\"circle-3.in\", \"w\")\n",
    "\n",
    "circle3 = PointsInCircum_subset(6, 100)\n",
    "\n",
    "for x in range(100):\n",
    "    f.write('{:0f} '.format(circle3[x][0]))\n",
    "    f.write(' {:0f}\\n'.format(circle3[x][1]))\n",
    "    \n",
    "f.close()\n",
    "circle3 = np.loadtxt(\"circle-3.in\")\n",
    "\n",
    "# Circle within a circle\n",
    "\n",
    "f = open(\"subset_circles.in\", \"w\")\n",
    "\n",
    "for x in range(100):\n",
    "    f.write('{:0f} '.format(circle1[x][0]))\n",
    "    f.write(' {:0f}\\n'.format(circle1[x][1]))\n",
    "    \n",
    "for x in range(100):\n",
    "    f.write('{:0f} '.format(circle3[x][0]))\n",
    "    f.write(' {:0f}\\n'.format(circle3[x][1]))\n",
    "    \n",
    "f.close()\n",
    "X = np.loadtxt(\"subset_circles.in\")"
   ]
  },
  {
   "cell_type": "code",
   "execution_count": 46,
   "metadata": {},
   "outputs": [],
   "source": [
    "# Subspace Clustering\n",
    "## Solve for each point as a linear system\n",
    "## with respect to all other points using\n",
    "## convex optimization routines\n",
    "## Basically, we express each point as a\n",
    "## linear combination of the other points...\n",
    "\n",
    "## Here we try to minimize the dot-product between\n",
    "## the coefficients. Sparsity is only needed in\n",
    "## dot-product space in-so-far as possible.\n",
    "\n",
    "A = np.transpose(X)\n",
    "Coeff = np.zeros([np.shape(A)[1],np.shape(A)[1]])\n",
    "for i in range(np.shape(A)[1]):\n",
    "    b = A[:,i]\n",
    "    # gamma must be positive due to DCP rules.\n",
    "    gamma = Parameter(nonneg=\"true\")\n",
    "    constraints = None\n",
    "    \n",
    "    # Construct the problem.\n",
    "    x = Variable(np.shape(A)[1])\n",
    "\n",
    "    ## Lasso\n",
    "    obj = Minimize(gamma*norm(A*x-b,2) + norm(x, 1))\n",
    "    constraints = [x[i] == 0]\n",
    "    ## constraints = [x[i] == 0, sum(x) == 1]\n",
    "\n",
    "    ## L1-Perfect\n",
    "    ## obj = Minimize(norm(x, 1))\n",
    "    ## constraints = [A*x == b, x[i] == 0, sum(x) == 1]\n",
    "    ## L1-Noisy\n",
    "    ## obj = Minimize(norm(x, 1))\n",
    "    ## constraints = [ A*x - b <= gamma, x[i] == 0, sum(x) == 1 ]\n",
    "\n",
    "    if [constraints == None]:\n",
    "        prob = Problem(obj)\n",
    "    else:\n",
    "        prob = Problem(obj,constraints)\n",
    "\n",
    "    ## From the original code\n",
    "    gamma.value = 0.386\n",
    "    prob.solve(solver='ECOS')\n",
    "    \n",
    "    Coeff[:,i] = np.transpose(x.value)\n",
    "#print(Coeff.shape)"
   ]
  },
  {
   "cell_type": "code",
   "execution_count": 47,
   "metadata": {},
   "outputs": [],
   "source": [
    "## Refine results...\n",
    "## Only use magnitude of the coefficients (no negative values)\n",
    "Coeff = np.abs(Coeff)\n",
    "## Normalize each row - not needed but doesn't hurt on most examples\n",
    "## Coeff = Coeff / numpy.apply_along_axis(numpy.max,1,Coeff)[:,None]\n",
    "## Symmetrize\n",
    "Coeff = Coeff + np.transpose(Coeff)"
   ]
  },
  {
   "cell_type": "code",
   "execution_count": 48,
   "metadata": {},
   "outputs": [],
   "source": [
    "## Dimensions in each subspace\n",
    "d1 = 1\n",
    "d2 = 1\n",
    "\n",
    "## What is K?\n",
    "K = np.max([d1,d2])+1\n",
    "#print(K)\n",
    "\n",
    "## Select the top K coefficients\n",
    "newCoeff = np.zeros(np.shape(Coeff))\n",
    "indices = np.apply_along_axis(lambda x: np.argsort(x)[::-1],1,Coeff)[:,range(K)]\n",
    "for x in range(np.shape(Coeff)[0]):\n",
    "    newCoeff[x,indices[x,:]] = Coeff[x,indices[x,:]]\n",
    "\n",
    "## Normalize each row - again, not really needed\n",
    "## newCoeff = newCoeff / numpy.apply_along_axis(numpy.max,1,newCoeff)[:,None]\n",
    "## Symmetrize\n",
    "newCoeff = newCoeff + np.transpose(newCoeff)"
   ]
  },
  {
   "cell_type": "code",
   "execution_count": 49,
   "metadata": {},
   "outputs": [
    {
     "data": {
      "image/png": "[encoded data removed]",
      "text/plain": [
       "<Figure size 432x288 with 1 Axes>"
      ]
     },
     "metadata": {
      "needs_background": "light"
     },
     "output_type": "display_data"
    }
   ],
   "source": [
    "## Standard...\n",
    "Xaff = newCoeff\n",
    "\n",
    "## Get row sums\n",
    "Xaff_D = np.diagflat(1.0 / np.sqrt(np.apply_along_axis(np.sum,0,Xaff)))\n",
    "\n",
    "## Normalization\n",
    "Xnorm = np.matmul(np.matmul(Xaff_D,Xaff),Xaff_D)\n",
    "\n",
    "## Might not want to show this if the data sizes (N1,N2)\n",
    "## are large...\n",
    "plt.imshow(Xnorm)\n",
    "\n",
    "## Decomposition\n",
    "Evals, Evecs = np.linalg.eigh(Xnorm)\n",
    "\n",
    "#print(Evecs)"
   ]
  },
  {
   "cell_type": "code",
   "execution_count": 50,
   "metadata": {},
   "outputs": [
    {
     "name": "stdout",
     "output_type": "stream",
     "text": [
      "[1. 1. 1.]\n"
     ]
    },
    {
     "data": {
      "text/plain": [
       "[<matplotlib.lines.Line2D at 0x10d845d32b0>]"
      ]
     },
     "execution_count": 50,
     "metadata": {},
     "output_type": "execute_result"
    },
    {
     "data": {
      "image/png": "[encoded data removed]",
      "text/plain": [
       "<Figure size 432x288 with 1 Axes>"
      ]
     },
     "metadata": {
      "needs_background": "light"
     },
     "output_type": "display_data"
    }
   ],
   "source": [
    "## Next Check the eigenvalues\n",
    "print(Evals[[-1,-2, -3]])\n",
    "plt.plot(np.linspace(1,len(Evals),num=len(Evals)),Evals)"
   ]
  },
  {
   "cell_type": "code",
   "execution_count": 51,
   "metadata": {},
   "outputs": [
    {
     "name": "stdout",
     "output_type": "stream",
     "text": [
      "Mutual Information\n",
      "0.05189916032126487\n"
     ]
    },
    {
     "data": {
      "image/png": "[encoded data removed]",
      "text/plain": [
       "<Figure size 432x288 with 1 Axes>"
      ]
     },
     "metadata": {
      "needs_background": "light"
     },
     "output_type": "display_data"
    }
   ],
   "source": [
    "## Perform clustering\n",
    "Xnew = Evecs[:,[-1,-2]]\n",
    "kmeans = KMeans(n_clusters=2).fit(Xnew)\n",
    "\n",
    "## If you want to see the eigen vectors...\n",
    "## Xone = Evecs[kmeans.labels_==0,:]\n",
    "## Xtwo = Evecs[kmeans.labels_==1,:]\n",
    "## plt.plot(Xone[:,0],Xone[:,1],'bo',Xtwo[:,0],Xtwo[:,1],'ro')\n",
    "\n",
    "## If you want it on the PCA projection...\n",
    "#Xone = Xsvd[0][kmeans.labels_==0,:]\n",
    "#Xtwo = Xsvd[0][kmeans.labels_==1,:]\n",
    "#plt.plot(Xone[:,0],Xone[:,1],'bo',Xtwo[:,0],Xtwo[:,1],'ro')\n",
    "\n",
    "## Let's quantify the performance\n",
    "jointPDF = np.zeros([2,2])\n",
    "for x in range(len(Xassign)):\n",
    "    jointPDF[Xassign[x],kmeans.labels_[x]] += 1\n",
    "jointPDF /= len(Xassign)\n",
    "jointPDF += 0.000000000000001\n",
    "marginals = np.outer(np.apply_along_axis(np.sum,1,jointPDF),np.apply_along_axis(np.sum,0,jointPDF))\n",
    "print('Mutual Information')\n",
    "print(np.sum(jointPDF*np.log2(jointPDF/marginals)))\n",
    "\n",
    "# Plot the Subspace clustering attempt at the data\n",
    "# Red will correlate to all 0's seen in kmeans.labels_, blue correlates to all 1's.\n",
    "plt.scatter(X[:,0], X[:,1], color = [[\"red\", \"blue\"][i] for i in kmeans.labels_])\n",
    "plt.ylabel('Y')\n",
    "plt.xlabel('X')\n",
    "plt.show()"
   ]
  },
  {
   "cell_type": "code",
   "execution_count": null,
   "metadata": {},
   "outputs": [],
   "source": []
  }
 ],
 "metadata": {
  "kernelspec": {
   "display_name": "Python 3",
   "language": "python",
   "name": "python3"
  },
  "language_info": {
   "codemirror_mode": {
    "name": "ipython",
    "version": 3
   },
   "file_extension": ".py",
   "mimetype": "text/x-python",
   "name": "python",
   "nbconvert_exporter": "python",
   "pygments_lexer": "ipython3",
   "version": "3.7.1"
  }
 },
 "nbformat": 4,
 "nbformat_minor": 4
}
